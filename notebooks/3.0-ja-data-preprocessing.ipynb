{
    "cells": [
        {
            "cell_type": "code",
            "execution_count": 1,
            "metadata": {},
            "outputs": [],
            "source": [
                "import pandas as pd\n",
                "import numpy as np\n",
                "import re\n",
                "import nltk\n",
                "from nltk.corpus import stopwords\n",
                "from collections import Counter\n",
                "import datetime\n",
                "import pytz"
            ]
        },
        {
            "cell_type": "code",
            "execution_count": 2,
            "metadata": {},
            "outputs": [],
            "source": [
                "### Load the pickle files to pandas dataframes. \n",
                "\n",
                "movie_data_df = pd.read_pickle(\"movie_data_df.pkl\")\n",
                "actor_data_df = pd.read_pickle(\"actor_data_df.pkl\")\n",
                "movie_awards_df = pd.read_pickle(\"movie_awards_df.pkl\")\n",
                "music_awards_df = pd.read_pickle(\"music_awards_df.pkl\")"
            ]
        },
        {
            "cell_type": "code",
            "execution_count": 3,
            "metadata": {},
            "outputs": [
                {
                    "data": {
                        "text/html": [
                            "<div>\n",
                            "<style scoped>\n",
                            "    .dataframe tbody tr th:only-of-type {\n",
                            "        vertical-align: middle;\n",
                            "    }\n",
                            "\n",
                            "    .dataframe tbody tr th {\n",
                            "        vertical-align: top;\n",
                            "    }\n",
                            "\n",
                            "    .dataframe thead th {\n",
                            "        text-align: right;\n",
                            "    }\n",
                            "</style>\n",
                            "<table border=\"1\" class=\"dataframe\">\n",
                            "  <thead>\n",
                            "    <tr style=\"text-align: right;\">\n",
                            "      <th></th>\n",
                            "      <th>imdbID</th>\n",
                            "      <th>Title</th>\n",
                            "      <th>Year</th>\n",
                            "      <th>Rated</th>\n",
                            "      <th>Released</th>\n",
                            "      <th>Runtime</th>\n",
                            "      <th>Genre</th>\n",
                            "      <th>Director</th>\n",
                            "      <th>Writer</th>\n",
                            "      <th>Lead_Actors</th>\n",
                            "      <th>...</th>\n",
                            "      <th>Production</th>\n",
                            "      <th>Keyword_List</th>\n",
                            "      <th>Movie_Crew</th>\n",
                            "      <th>Movie_Cast</th>\n",
                            "      <th>Budget</th>\n",
                            "      <th>Opening_Weekend_Gross</th>\n",
                            "      <th>Worldwide_Gross</th>\n",
                            "      <th>Soundtrack_Credits</th>\n",
                            "      <th>alternative_titles</th>\n",
                            "      <th>Supporting_Actors</th>\n",
                            "    </tr>\n",
                            "  </thead>\n",
                            "  <tbody>\n",
                            "    <tr>\n",
                            "      <th>0</th>\n",
                            "      <td>tt0056952</td>\n",
                            "      <td>The Cool World</td>\n",
                            "      <td>1963</td>\n",
                            "      <td>None</td>\n",
                            "      <td>1964-11-02 00:00:00</td>\n",
                            "      <td>105</td>\n",
                            "      <td>[Crime, Drama]</td>\n",
                            "      <td>Shirley Clarke</td>\n",
                            "      <td>[Shirley Clarke, Carl Lee, Warren Miller]</td>\n",
                            "      <td>[Rony Clanton, Carl Lee, Yolanda Rodríguez]</td>\n",
                            "      <td>...</td>\n",
                            "      <td>None</td>\n",
                            "      <td>[jazz, gang, racism, woman director, harlem]</td>\n",
                            "      <td>[Hugh A. Robertson, Robert Rossen, Carl Lee, F...</td>\n",
                            "      <td>[Rony Clanton, Carl Lee, Yolanda Rodríguez, Cl...</td>\n",
                            "      <td>0</td>\n",
                            "      <td>NaN</td>\n",
                            "      <td>NaN</td>\n",
                            "      <td>None</td>\n",
                            "      <td>0</td>\n",
                            "      <td>[Clarence Williams III, Richard Ward, Antonio ...</td>\n",
                            "    </tr>\n",
                            "    <tr>\n",
                            "      <th>1</th>\n",
                            "      <td>tt0065944</td>\n",
                            "      <td>King: A Filmed Record... Montgomery to Memphis</td>\n",
                            "      <td>1970</td>\n",
                            "      <td>None</td>\n",
                            "      <td>1970-03-24 00:00:00+00:00</td>\n",
                            "      <td>185</td>\n",
                            "      <td>[Documentary, Biography, History]</td>\n",
                            "      <td>Sidney Lumet, Joseph L. Mankiewicz</td>\n",
                            "      <td>[Mitchell Grayson, Ely A. Landau]</td>\n",
                            "      <td>[Paul Newman, Joanne Woodward, Ruby Dee, James...</td>\n",
                            "      <td>...</td>\n",
                            "      <td>None</td>\n",
                            "      <td>[civil war, alabama, racism, segregation]</td>\n",
                            "      <td>[Sidney Lumet, Joseph L. Mankiewicz, Richard K...</td>\n",
                            "      <td>[Martin Luther King, Coretta Scott King, Ralph...</td>\n",
                            "      <td>0</td>\n",
                            "      <td>NaN</td>\n",
                            "      <td>NaN</td>\n",
                            "      <td>None</td>\n",
                            "      <td>2</td>\n",
                            "      <td>[Harry Belafonte, James Baldwin, Martin Luther...</td>\n",
                            "    </tr>\n",
                            "    <tr>\n",
                            "      <th>2</th>\n",
                            "      <td>tt0066559</td>\n",
                            "      <td>What Do You Say to a Naked Lady?</td>\n",
                            "      <td>1970</td>\n",
                            "      <td>X</td>\n",
                            "      <td>1970-02-18 00:00:00</td>\n",
                            "      <td>85</td>\n",
                            "      <td>[Documentary, Comedy]</td>\n",
                            "      <td>Allen Funt</td>\n",
                            "      <td>[Allen Funt]</td>\n",
                            "      <td>[Joie Addison, Laura Huston, Martin Meyers, Ka...</td>\n",
                            "      <td>...</td>\n",
                            "      <td>None</td>\n",
                            "      <td>[camera, naked, candid camera, elevator, react...</td>\n",
                            "      <td>[Urs Furrer, Steve Karmen, Allen Funt, Tom Man...</td>\n",
                            "      <td>[Allen Funt, Joie Addison, Laura Huston, Marti...</td>\n",
                            "      <td>0</td>\n",
                            "      <td>NaN</td>\n",
                            "      <td>NaN</td>\n",
                            "      <td>None</td>\n",
                            "      <td>2</td>\n",
                            "      <td>[Joan Bell, Ernie Monah, Susanna Clemm, Donna ...</td>\n",
                            "    </tr>\n",
                            "    <tr>\n",
                            "      <th>3</th>\n",
                            "      <td>tt0067741</td>\n",
                            "      <td>Shaft</td>\n",
                            "      <td>1971</td>\n",
                            "      <td>R</td>\n",
                            "      <td>1971-07-02 00:00:00</td>\n",
                            "      <td>100</td>\n",
                            "      <td>[Action, Crime, Thriller]</td>\n",
                            "      <td>Gordon Parks</td>\n",
                            "      <td>[Ernest Tidyman, John D.F. Black, Ernest Tidyman]</td>\n",
                            "      <td>[Richard Roundtree, Moses Gunn, Charles Cioffi...</td>\n",
                            "      <td>...</td>\n",
                            "      <td>[Metro Goldwyn Mayer, Shaft Productions Ltd.]</td>\n",
                            "      <td>[new york city, black people, ghetto, daughter...</td>\n",
                            "      <td>[Ernest Tidyman, Isaac Hayes, Gordon Parks, Jo...</td>\n",
                            "      <td>[Richard Roundtree, Moses Gunn, Charles Cioffi...</td>\n",
                            "      <td>4000000</td>\n",
                            "      <td>NaN</td>\n",
                            "      <td>NaN</td>\n",
                            "      <td>[[nm0005002, Isaac Hayes], [nm0005002, Isaac H...</td>\n",
                            "      <td>1</td>\n",
                            "      <td>[Rex Robbins, George Strus, Joseph Leon, Marga...</td>\n",
                            "    </tr>\n",
                            "    <tr>\n",
                            "      <th>4</th>\n",
                            "      <td>tt0068358</td>\n",
                            "      <td>Charley-One-Eye</td>\n",
                            "      <td>1973</td>\n",
                            "      <td>R</td>\n",
                            "      <td>1973-04-18 00:00:00+00:00</td>\n",
                            "      <td>96</td>\n",
                            "      <td>[Western]</td>\n",
                            "      <td>Don Chaffey</td>\n",
                            "      <td>[Keith Leonard]</td>\n",
                            "      <td>[Richard Roundtree, Roy Thinnes, Nigel Davenpo...</td>\n",
                            "      <td>...</td>\n",
                            "      <td>None</td>\n",
                            "      <td>[civil war, on the run, racism]</td>\n",
                            "      <td>[James Swann, John Cameron, Don Chaffey, Tim H...</td>\n",
                            "      <td>[Richard Roundtree, Roy Thinnes, Nigel Davenpo...</td>\n",
                            "      <td>0</td>\n",
                            "      <td>NaN</td>\n",
                            "      <td>NaN</td>\n",
                            "      <td>None</td>\n",
                            "      <td>3</td>\n",
                            "      <td>[Rafael Albaicín, Luis Aller, Aldo Sambrell, J...</td>\n",
                            "    </tr>\n",
                            "  </tbody>\n",
                            "</table>\n",
                            "<p>5 rows × 29 columns</p>\n",
                            "</div>"
                        ],
                        "text/plain": [
                            "      imdbID                                           Title  Year Rated  \\\n",
                            "0  tt0056952                                  The Cool World  1963  None   \n",
                            "1  tt0065944  King: A Filmed Record... Montgomery to Memphis  1970  None   \n",
                            "2  tt0066559                What Do You Say to a Naked Lady?  1970     X   \n",
                            "3  tt0067741                                           Shaft  1971     R   \n",
                            "4  tt0068358                                 Charley-One-Eye  1973     R   \n",
                            "\n",
                            "                    Released  Runtime                              Genre  \\\n",
                            "0        1964-11-02 00:00:00      105                     [Crime, Drama]   \n",
                            "1  1970-03-24 00:00:00+00:00      185  [Documentary, Biography, History]   \n",
                            "2        1970-02-18 00:00:00       85              [Documentary, Comedy]   \n",
                            "3        1971-07-02 00:00:00      100          [Action, Crime, Thriller]   \n",
                            "4  1973-04-18 00:00:00+00:00       96                          [Western]   \n",
                            "\n",
                            "                             Director  \\\n",
                            "0                      Shirley Clarke   \n",
                            "1  Sidney Lumet, Joseph L. Mankiewicz   \n",
                            "2                          Allen Funt   \n",
                            "3                        Gordon Parks   \n",
                            "4                         Don Chaffey   \n",
                            "\n",
                            "                                              Writer  \\\n",
                            "0          [Shirley Clarke, Carl Lee, Warren Miller]   \n",
                            "1                  [Mitchell Grayson, Ely A. Landau]   \n",
                            "2                                       [Allen Funt]   \n",
                            "3  [Ernest Tidyman, John D.F. Black, Ernest Tidyman]   \n",
                            "4                                    [Keith Leonard]   \n",
                            "\n",
                            "                                         Lead_Actors  ...  \\\n",
                            "0        [Rony Clanton, Carl Lee, Yolanda Rodríguez]  ...   \n",
                            "1  [Paul Newman, Joanne Woodward, Ruby Dee, James...  ...   \n",
                            "2  [Joie Addison, Laura Huston, Martin Meyers, Ka...  ...   \n",
                            "3  [Richard Roundtree, Moses Gunn, Charles Cioffi...  ...   \n",
                            "4  [Richard Roundtree, Roy Thinnes, Nigel Davenpo...  ...   \n",
                            "\n",
                            "                                      Production  \\\n",
                            "0                                           None   \n",
                            "1                                           None   \n",
                            "2                                           None   \n",
                            "3  [Metro Goldwyn Mayer, Shaft Productions Ltd.]   \n",
                            "4                                           None   \n",
                            "\n",
                            "                                        Keyword_List  \\\n",
                            "0       [jazz, gang, racism, woman director, harlem]   \n",
                            "1          [civil war, alabama, racism, segregation]   \n",
                            "2  [camera, naked, candid camera, elevator, react...   \n",
                            "3  [new york city, black people, ghetto, daughter...   \n",
                            "4                    [civil war, on the run, racism]   \n",
                            "\n",
                            "                                          Movie_Crew  \\\n",
                            "0  [Hugh A. Robertson, Robert Rossen, Carl Lee, F...   \n",
                            "1  [Sidney Lumet, Joseph L. Mankiewicz, Richard K...   \n",
                            "2  [Urs Furrer, Steve Karmen, Allen Funt, Tom Man...   \n",
                            "3  [Ernest Tidyman, Isaac Hayes, Gordon Parks, Jo...   \n",
                            "4  [James Swann, John Cameron, Don Chaffey, Tim H...   \n",
                            "\n",
                            "                                          Movie_Cast   Budget  \\\n",
                            "0  [Rony Clanton, Carl Lee, Yolanda Rodríguez, Cl...        0   \n",
                            "1  [Martin Luther King, Coretta Scott King, Ralph...        0   \n",
                            "2  [Allen Funt, Joie Addison, Laura Huston, Marti...        0   \n",
                            "3  [Richard Roundtree, Moses Gunn, Charles Cioffi...  4000000   \n",
                            "4  [Richard Roundtree, Roy Thinnes, Nigel Davenpo...        0   \n",
                            "\n",
                            "   Opening_Weekend_Gross Worldwide_Gross  \\\n",
                            "0                    NaN             NaN   \n",
                            "1                    NaN             NaN   \n",
                            "2                    NaN             NaN   \n",
                            "3                    NaN             NaN   \n",
                            "4                    NaN             NaN   \n",
                            "\n",
                            "                                  Soundtrack_Credits alternative_titles  \\\n",
                            "0                                               None                  0   \n",
                            "1                                               None                  2   \n",
                            "2                                               None                  2   \n",
                            "3  [[nm0005002, Isaac Hayes], [nm0005002, Isaac H...                  1   \n",
                            "4                                               None                  3   \n",
                            "\n",
                            "                                   Supporting_Actors  \n",
                            "0  [Clarence Williams III, Richard Ward, Antonio ...  \n",
                            "1  [Harry Belafonte, James Baldwin, Martin Luther...  \n",
                            "2  [Joan Bell, Ernie Monah, Susanna Clemm, Donna ...  \n",
                            "3  [Rex Robbins, George Strus, Joseph Leon, Marga...  \n",
                            "4  [Rafael Albaicín, Luis Aller, Aldo Sambrell, J...  \n",
                            "\n",
                            "[5 rows x 29 columns]"
                        ]
                    },
                    "metadata": {},
                    "output_type": "display_data"
                },
                {
                    "data": {
                        "text/html": [
                            "<div>\n",
                            "<style scoped>\n",
                            "    .dataframe tbody tr th:only-of-type {\n",
                            "        vertical-align: middle;\n",
                            "    }\n",
                            "\n",
                            "    .dataframe tbody tr th {\n",
                            "        vertical-align: top;\n",
                            "    }\n",
                            "\n",
                            "    .dataframe thead th {\n",
                            "        text-align: right;\n",
                            "    }\n",
                            "</style>\n",
                            "<table border=\"1\" class=\"dataframe\">\n",
                            "  <thead>\n",
                            "    <tr style=\"text-align: right;\">\n",
                            "      <th></th>\n",
                            "      <th>IMDb_ID</th>\n",
                            "      <th>TMDb_ID</th>\n",
                            "      <th>Gender</th>\n",
                            "      <th>Birthday</th>\n",
                            "      <th>Movie_Credits</th>\n",
                            "      <th>actor</th>\n",
                            "    </tr>\n",
                            "  </thead>\n",
                            "  <tbody>\n",
                            "    <tr>\n",
                            "      <th>0</th>\n",
                            "      <td>nm1004267</td>\n",
                            "      <td>195666</td>\n",
                            "      <td>1</td>\n",
                            "      <td>1976-02-08</td>\n",
                            "      <td>{Snowflakes,\"Alien: Containment\",Blooded,\"Shoo...</td>\n",
                            "      <td>Sharon Duncan-Brewster</td>\n",
                            "    </tr>\n",
                            "    <tr>\n",
                            "      <th>1</th>\n",
                            "      <td>nm2351246</td>\n",
                            "      <td>479206</td>\n",
                            "      <td>1</td>\n",
                            "      <td>1981-08-27</td>\n",
                            "      <td>{\"A Stone Cold Christmas\",\"Bobbi Kristina\",\"Br...</td>\n",
                            "      <td>Demetria McKinney</td>\n",
                            "    </tr>\n",
                            "    <tr>\n",
                            "      <th>2</th>\n",
                            "      <td>nm4555351</td>\n",
                            "      <td>1975743</td>\n",
                            "      <td>1</td>\n",
                            "      <td>1989-05-11</td>\n",
                            "      <td>{\"Look Again\",\"The Lovely Rejects\",\"Healing Me...</td>\n",
                            "      <td>Lauren Neal</td>\n",
                            "    </tr>\n",
                            "    <tr>\n",
                            "      <th>3</th>\n",
                            "      <td>nm0376200</td>\n",
                            "      <td>83976</td>\n",
                            "      <td>2</td>\n",
                            "      <td>1938-02-01</td>\n",
                            "      <td>{\"For the Love of a Dog\",\"Ghost Fever\",Clunker...</td>\n",
                            "      <td>Sherman Hemsley</td>\n",
                            "    </tr>\n",
                            "    <tr>\n",
                            "      <th>4</th>\n",
                            "      <td>nm0940851</td>\n",
                            "      <td>21356</td>\n",
                            "      <td>2</td>\n",
                            "      <td>1969-07-25</td>\n",
                            "      <td>{\"After All\",\"The Inheritance\",\"The Temptation...</td>\n",
                            "      <td>D.B. Woodside</td>\n",
                            "    </tr>\n",
                            "  </tbody>\n",
                            "</table>\n",
                            "</div>"
                        ],
                        "text/plain": [
                            "     IMDb_ID  TMDb_ID  Gender   Birthday  \\\n",
                            "0  nm1004267   195666       1 1976-02-08   \n",
                            "1  nm2351246   479206       1 1981-08-27   \n",
                            "2  nm4555351  1975743       1 1989-05-11   \n",
                            "3  nm0376200    83976       2 1938-02-01   \n",
                            "4  nm0940851    21356       2 1969-07-25   \n",
                            "\n",
                            "                                       Movie_Credits                   actor  \n",
                            "0  {Snowflakes,\"Alien: Containment\",Blooded,\"Shoo...  Sharon Duncan-Brewster  \n",
                            "1  {\"A Stone Cold Christmas\",\"Bobbi Kristina\",\"Br...       Demetria McKinney  \n",
                            "2  {\"Look Again\",\"The Lovely Rejects\",\"Healing Me...             Lauren Neal  \n",
                            "3  {\"For the Love of a Dog\",\"Ghost Fever\",Clunker...         Sherman Hemsley  \n",
                            "4  {\"After All\",\"The Inheritance\",\"The Temptation...           D.B. Woodside  "
                        ]
                    },
                    "metadata": {},
                    "output_type": "display_data"
                },
                {
                    "data": {
                        "text/html": [
                            "<div>\n",
                            "<style scoped>\n",
                            "    .dataframe tbody tr th:only-of-type {\n",
                            "        vertical-align: middle;\n",
                            "    }\n",
                            "\n",
                            "    .dataframe tbody tr th {\n",
                            "        vertical-align: top;\n",
                            "    }\n",
                            "\n",
                            "    .dataframe thead th {\n",
                            "        text-align: right;\n",
                            "    }\n",
                            "</style>\n",
                            "<table border=\"1\" class=\"dataframe\">\n",
                            "  <thead>\n",
                            "    <tr style=\"text-align: right;\">\n",
                            "      <th></th>\n",
                            "      <th>year_award</th>\n",
                            "      <th>winner</th>\n",
                            "    </tr>\n",
                            "  </thead>\n",
                            "  <tbody>\n",
                            "    <tr>\n",
                            "      <th>0</th>\n",
                            "      <td>2005-04-01</td>\n",
                            "      <td>Nicollette Sheridan</td>\n",
                            "    </tr>\n",
                            "    <tr>\n",
                            "      <th>1</th>\n",
                            "      <td>1979-04-01</td>\n",
                            "      <td>Brad Davis</td>\n",
                            "    </tr>\n",
                            "    <tr>\n",
                            "      <th>2</th>\n",
                            "      <td>1964-04-01</td>\n",
                            "      <td>Martin Ritt</td>\n",
                            "    </tr>\n",
                            "    <tr>\n",
                            "      <th>3</th>\n",
                            "      <td>1963-04-01</td>\n",
                            "      <td>Janet Margolin</td>\n",
                            "    </tr>\n",
                            "    <tr>\n",
                            "      <th>4</th>\n",
                            "      <td>2008-04-01</td>\n",
                            "      <td>Grey's Anatomy</td>\n",
                            "    </tr>\n",
                            "  </tbody>\n",
                            "</table>\n",
                            "</div>"
                        ],
                        "text/plain": [
                            "  year_award               winner\n",
                            "0 2005-04-01  Nicollette Sheridan\n",
                            "1 1979-04-01           Brad Davis\n",
                            "2 1964-04-01          Martin Ritt\n",
                            "3 1963-04-01       Janet Margolin\n",
                            "4 2008-04-01       Grey's Anatomy"
                        ]
                    },
                    "metadata": {},
                    "output_type": "display_data"
                },
                {
                    "data": {
                        "text/html": [
                            "<div>\n",
                            "<style scoped>\n",
                            "    .dataframe tbody tr th:only-of-type {\n",
                            "        vertical-align: middle;\n",
                            "    }\n",
                            "\n",
                            "    .dataframe tbody tr th {\n",
                            "        vertical-align: top;\n",
                            "    }\n",
                            "\n",
                            "    .dataframe thead th {\n",
                            "        text-align: right;\n",
                            "    }\n",
                            "</style>\n",
                            "<table border=\"1\" class=\"dataframe\">\n",
                            "  <thead>\n",
                            "    <tr style=\"text-align: right;\">\n",
                            "      <th></th>\n",
                            "      <th>year_award</th>\n",
                            "      <th>winner</th>\n",
                            "    </tr>\n",
                            "  </thead>\n",
                            "  <tbody>\n",
                            "    <tr>\n",
                            "      <th>0</th>\n",
                            "      <td>2020-05-19</td>\n",
                            "      <td>{\"Billie Eilish\"}{\"Finneas O'Connell\",\" Rob Ki...</td>\n",
                            "    </tr>\n",
                            "    <tr>\n",
                            "      <th>1</th>\n",
                            "      <td>2020-05-19</td>\n",
                            "      <td>{\"Bon Iver\"}{\"BJ Burton\",\" Brad Cook\",\" Chris ...</td>\n",
                            "    </tr>\n",
                            "    <tr>\n",
                            "      <th>2</th>\n",
                            "      <td>2020-05-19</td>\n",
                            "      <td>{\"Ariana Grande\"}{\"Charles Anderson\",\" Tommy B...</td>\n",
                            "    </tr>\n",
                            "    <tr>\n",
                            "      <th>3</th>\n",
                            "      <td>2020-05-19</td>\n",
                            "      <td>{H.E.R.}{\"Rodney  Darkchild  Jerkins\",\" Joseph...</td>\n",
                            "    </tr>\n",
                            "    <tr>\n",
                            "      <th>4</th>\n",
                            "      <td>2020-05-19</td>\n",
                            "      <td>{Khalid}{\"Disclosure \",\" Denis Kosiak\",\" Ingma...</td>\n",
                            "    </tr>\n",
                            "  </tbody>\n",
                            "</table>\n",
                            "</div>"
                        ],
                        "text/plain": [
                            "  year_award                                             winner\n",
                            "0 2020-05-19  {\"Billie Eilish\"}{\"Finneas O'Connell\",\" Rob Ki...\n",
                            "1 2020-05-19  {\"Bon Iver\"}{\"BJ Burton\",\" Brad Cook\",\" Chris ...\n",
                            "2 2020-05-19  {\"Ariana Grande\"}{\"Charles Anderson\",\" Tommy B...\n",
                            "3 2020-05-19  {H.E.R.}{\"Rodney  Darkchild  Jerkins\",\" Joseph...\n",
                            "4 2020-05-19  {Khalid}{\"Disclosure \",\" Denis Kosiak\",\" Ingma..."
                        ]
                    },
                    "metadata": {},
                    "output_type": "display_data"
                }
            ],
            "source": [
                "# Display the heads.\n",
                "display(movie_data_df.head())\n",
                "display(actor_data_df.head())\n",
                "display(movie_awards_df.head())\n",
                "display(music_awards_df.head())"
            ]
        },
        {
            "cell_type": "code",
            "execution_count": 4,
            "metadata": {},
            "outputs": [],
            "source": [
                "### Define the pre-processing functions.\n",
                "\n",
                "def normalise_list_names(names):\n",
                "    \"\"\"Normalise names in a list by making all letters uppercase.\"\"\"\n",
                "    if names is not None:\n",
                "        names = [name.upper() for name in names]\n",
                "    return names\n",
                "\n",
                "def normalise_string_names(names):\n",
                "    \"\"\"Normalise names by making all letters uppercase.\"\"\"\n",
                "    names = names.upper()\n",
                "    return names\n",
                "\n",
                "def clean_soundtrack_credits(st_credits):\n",
                "    \"\"\"Remove credit duplicates and imdb_ids; append uppercase names to list.\"\"\"\n",
                "    st_credits_final = []\n",
                "    if st_credits is not None:\n",
                "        for credit in st_credits:\n",
                "            if credit[1].upper() not in st_credits_final:\n",
                "                st_credits_final.append(credit[1].upper())\n",
                "    return st_credits_final\n",
                "\n",
                "def clean_writers(writer_list):\n",
                "    \"\"\"Remove any text in brackets from the Writer column.\"\"\"\n",
                "    writers = []\n",
                "    for writer in writer_list:\n",
                "        writer = re.sub(\"(\\(.+\\))\", \"\", writer).strip()\n",
                "        writers.append(writer)\n",
                "    return writers\n",
                "\n",
                "def get_total_movie_awards(names, date):\n",
                "    \"\"\"Get the total number of movie/acting awards won amongst a group of individuals before the given date.\"\"\"\n",
                "    award_count = 0\n",
                "    for name in names:\n",
                "        award_count += len(movie_awards_df[(movie_awards_df[\"year_award\"] < date) & (movie_awards_df[\"winner\"].str.contains(name, na=False, regex=False))])\n",
                "    return award_count\n",
                "\n",
                "def get_total_music_awards(names, date):\n",
                "    \"\"\"Get the total number of music awards won amongst a group of individuals before the given date.\"\"\"\n",
                "    award_count = 0\n",
                "    for name in names: \n",
                "        award_count += len(music_awards_df[(music_awards_df[\"year_award\"] < date) & (music_awards_df[\"winner\"].str.contains(name, na=False, regex=False))])\n",
                "    return award_count\n",
                "\n",
                "def calculate_black_actor_proportion(actors):\n",
                "    \"\"\"Calculate the proportion of Black actors that make up a movie's cast.\"\"\"\n",
                "    count = 0\n",
                "    for name in actors:\n",
                "        if actor_data_df[\"actor\"].str.contains(name, na=False).any():\n",
                "            count += 1\n",
                "\n",
                "    if count != 0:\n",
                "        proportion = count / len(actors)\n",
                "        return f'{proportion:.2f}'\n",
                "    else:\n",
                "        return 0    \n",
                "\n",
                "def create_word_freq_list(df_column):\n",
                "    \"\"\"Create a sorted word frequency list.\"\"\"\n",
                "    plot_words = df_column.sum() # concatenate all plots\n",
                "    word_counts = plot_words.value_counts() # get word counts\n",
                "    return word_counts"
            ]
        },
        {
            "cell_type": "code",
            "execution_count": 5,
            "metadata": {},
            "outputs": [],
            "source": [
                "# Convert Director names into list of names. \n",
                "movie_data_df[\"Director\"] = movie_data_df[\"Director\"].map(lambda x: x.split(\",\")) "
            ]
        },
        {
            "cell_type": "code",
            "execution_count": 6,
            "metadata": {},
            "outputs": [],
            "source": [
                "# Normalise text in relevant columns and dataframes.\n",
                "movie_data_df[\"Director\"] = movie_data_df[\"Director\"].map(lambda x: normalise_list_names(x))\n",
                "movie_data_df[\"Writer\"] = movie_data_df[\"Writer\"].map(lambda x: normalise_list_names(x))\n",
                "movie_data_df[\"Lead_Actors\"] = movie_data_df[\"Lead_Actors\"].map(lambda x: normalise_list_names(x))\n",
                "movie_data_df[\"Supporting_Actors\"] = movie_data_df[\"Supporting_Actors\"].map(lambda x: normalise_list_names(x))\n",
                "movie_data_df[\"Movie_Cast\"] = movie_data_df[\"Movie_Cast\"].map(lambda x: normalise_list_names(x))\n",
                "movie_data_df[\"Movie_Crew\"] = movie_data_df[\"Movie_Crew\"].map(lambda x: normalise_list_names(x))\n",
                "actor_data_df[\"actor\"] = actor_data_df[\"actor\"].astype(str).map(lambda x: normalise_string_names(x))\n",
                "movie_awards_df[\"winner\"] = movie_awards_df[\"winner\"].astype(str).map(lambda x: normalise_string_names(x))\n",
                "music_awards_df[\"winner\"] = music_awards_df[\"winner\"].astype(str).map(lambda x: normalise_string_names(x))"
            ]
        },
        {
            "cell_type": "code",
            "execution_count": 7,
            "metadata": {},
            "outputs": [],
            "source": [
                "# Clean and normalise soundtrack_credits column.\n",
                "movie_data_df[\"Soundtrack_Credits\"] = movie_data_df[\"Soundtrack_Credits\"].map(lambda x: clean_soundtrack_credits(x))"
            ]
        },
        {
            "cell_type": "code",
            "execution_count": 8,
            "metadata": {},
            "outputs": [],
            "source": [
                "# Normalise all datetime objects by making them timezone aware (utc).\n",
                "music_awards_df[\"year_award\"] = pd.to_datetime(music_awards_df[\"year_award\"], utc=True)\n",
                "movie_awards_df[\"year_award\"] = pd.to_datetime(movie_awards_df[\"year_award\"], utc=True)\n",
                "movie_data_df[\"Released\"] = movie_data_df[\"Released\"].apply(lambda d: d.replace(tzinfo=pytz.utc))"
            ]
        },
        {
            "cell_type": "code",
            "execution_count": 9,
            "metadata": {},
            "outputs": [],
            "source": [
                "# Clean Writer column by removing any text in brackets.\n",
                "movie_data_df[\"Writer\"] = movie_data_df[\"Writer\"].apply(lambda x: clean_writers(x))"
            ]
        },
        {
            "cell_type": "code",
            "execution_count": 10,
            "metadata": {},
            "outputs": [],
            "source": [
                "# Add the new total_awards columns to the dataframe.\n",
                "movie_data_df[\"Total_Awards_Lead_Actors\"] = movie_data_df.apply(lambda row: get_total_movie_awards(row[\"Lead_Actors\"], row[\"Released\"]), axis=1)\n",
                "movie_data_df[\"Total_Awards_Supporting_Actors\"] = movie_data_df.apply(lambda row: get_total_movie_awards(row[\"Supporting_Actors\"], row[\"Released\"]), axis=1)\n",
                "movie_data_df[\"Total_Awards_Movie_Cast\"] = movie_data_df.apply(lambda row: get_total_movie_awards(row[\"Movie_Cast\"], row[\"Released\"]), axis=1)\n",
                "movie_data_df[\"Total_Awards_Director\"] = movie_data_df.apply(lambda row: get_total_movie_awards(row[\"Director\"], row[\"Released\"]), axis=1)\n",
                "movie_data_df[\"Total_Awards_Writer\"] = movie_data_df.apply(lambda row: get_total_movie_awards(row[\"Writer\"], row[\"Released\"]), axis=1)\n",
                "movie_data_df[\"Total_Awards_Movie_Crew\"] = movie_data_df.apply(lambda row: get_total_movie_awards(row[\"Movie_Crew\"], row[\"Released\"]), axis=1)\n",
                "movie_data_df[\"Total_Awards_Soundtrack_Credits\"] = movie_data_df.apply(lambda row: get_total_music_awards(row[\"Soundtrack_Credits\"], row[\"Released\"]), axis=1)"
            ]
        },
        {
            "cell_type": "code",
            "execution_count": 11,
            "metadata": {},
            "outputs": [
                {
                    "name": "stdout",
                    "output_type": "stream",
                    "text": [
                        "Index: 1\n",
                        "King: A Filmed Record... Montgomery to Memphis\n",
                        "Lead Actors\n"
                    ]
                },
                {
                    "data": {
                        "text/plain": [
                            "['PAUL NEWMAN', 'JOANNE WOODWARD', 'RUBY DEE', 'JAMES EARL JONES']"
                        ]
                    },
                    "metadata": {},
                    "output_type": "display_data"
                },
                {
                    "data": {
                        "text/plain": [
                            "10"
                        ]
                    },
                    "metadata": {},
                    "output_type": "display_data"
                },
                {
                    "name": "stdout",
                    "output_type": "stream",
                    "text": [
                        "Supporting Actors\n"
                    ]
                },
                {
                    "data": {
                        "text/plain": [
                            "['HARRY BELAFONTE',\n",
                            " 'JAMES BALDWIN',\n",
                            " 'MARTIN LUTHER KING',\n",
                            " 'JOAN BAEZ',\n",
                            " 'CORETTA SCOTT KING',\n",
                            " 'BEN GAZZARA',\n",
                            " 'LEONARD BERNSTEIN',\n",
                            " 'TONY BENNETT',\n",
                            " 'MAHALIA JACKSON',\n",
                            " 'CHARLTON HESTON',\n",
                            " 'RALPH ABERNATHY',\n",
                            " 'JAMES GARNER',\n",
                            " 'MARLON BRANDO']"
                        ]
                    },
                    "metadata": {},
                    "output_type": "display_data"
                },
                {
                    "data": {
                        "text/plain": [
                            "15"
                        ]
                    },
                    "metadata": {},
                    "output_type": "display_data"
                },
                {
                    "name": "stdout",
                    "output_type": "stream",
                    "text": [
                        "Movie Cast\n"
                    ]
                },
                {
                    "data": {
                        "text/plain": [
                            "['MARTIN LUTHER KING',\n",
                            " 'CORETTA SCOTT KING',\n",
                            " 'RALPH ABERNATHY',\n",
                            " 'JOAN BAEZ',\n",
                            " 'JAMES BALDWIN',\n",
                            " 'HARRY BELAFONTE',\n",
                            " 'TONY BENNETT',\n",
                            " 'LEONARD BERNSTEIN',\n",
                            " 'MARLON BRANDO',\n",
                            " 'RUBY DEE',\n",
                            " 'JAMES GARNER',\n",
                            " 'BEN GAZZARA',\n",
                            " 'CHARLTON HESTON',\n",
                            " 'MAHALIA JACKSON',\n",
                            " 'JAMES EARL JONES']"
                        ]
                    },
                    "metadata": {},
                    "output_type": "display_data"
                },
                {
                    "data": {
                        "text/plain": [
                            "15"
                        ]
                    },
                    "metadata": {},
                    "output_type": "display_data"
                },
                {
                    "name": "stdout",
                    "output_type": "stream",
                    "text": [
                        "Next row...\n",
                        "Index: 145\n",
                        "Presumed Innocent\n",
                        "Lead Actors\n"
                    ]
                },
                {
                    "data": {
                        "text/plain": [
                            "['HARRISON FORD', 'RAUL JULIA', 'GRETA SCACCHI']"
                        ]
                    },
                    "metadata": {},
                    "output_type": "display_data"
                },
                {
                    "data": {
                        "text/plain": [
                            "5"
                        ]
                    },
                    "metadata": {},
                    "output_type": "display_data"
                },
                {
                    "name": "stdout",
                    "output_type": "stream",
                    "text": [
                        "Supporting Actors\n"
                    ]
                },
                {
                    "data": {
                        "text/plain": [
                            "['ANNA MARIA HORSFORD',\n",
                            " 'RAÚL JULIÁ',\n",
                            " 'BRIAN DENNEHY',\n",
                            " 'PAUL WINFIELD',\n",
                            " 'JOHN SPENCER',\n",
                            " 'JOE GRIFASI',\n",
                            " 'BONNIE BEDELIA',\n",
                            " 'CHRISTINE ESTABROOK',\n",
                            " 'MICHAEL TOLAN',\n",
                            " 'MADISON ARNOLD',\n",
                            " 'TOM MARDIROSIAN',\n",
                            " 'SAB SHIMONO',\n",
                            " 'BRADLEY WHITFORD']"
                        ]
                    },
                    "metadata": {},
                    "output_type": "display_data"
                },
                {
                    "data": {
                        "text/plain": [
                            "1"
                        ]
                    },
                    "metadata": {},
                    "output_type": "display_data"
                },
                {
                    "name": "stdout",
                    "output_type": "stream",
                    "text": [
                        "Movie Cast\n"
                    ]
                },
                {
                    "data": {
                        "text/plain": [
                            "['HARRISON FORD',\n",
                            " 'BRIAN DENNEHY',\n",
                            " 'RAÚL JULIÁ',\n",
                            " 'BONNIE BEDELIA',\n",
                            " 'PAUL WINFIELD',\n",
                            " 'GRETA SCACCHI',\n",
                            " 'JOHN SPENCER',\n",
                            " 'JOE GRIFASI',\n",
                            " 'TOM MARDIROSIAN',\n",
                            " 'ANNA MARIA HORSFORD',\n",
                            " 'SAB SHIMONO',\n",
                            " 'BRADLEY WHITFORD',\n",
                            " 'CHRISTINE ESTABROOK',\n",
                            " 'MICHAEL TOLAN',\n",
                            " 'MADISON ARNOLD']"
                        ]
                    },
                    "metadata": {},
                    "output_type": "display_data"
                },
                {
                    "data": {
                        "text/plain": [
                            "3"
                        ]
                    },
                    "metadata": {},
                    "output_type": "display_data"
                },
                {
                    "name": "stdout",
                    "output_type": "stream",
                    "text": [
                        "Next row...\n",
                        "Index: 281\n",
                        "Things to Do in Denver When You're Dead\n",
                        "Lead Actors\n"
                    ]
                },
                {
                    "data": {
                        "text/plain": [
                            "['ANDY GARCIA', 'CHRISTOPHER WALKEN', 'CHRISTOPHER LLOYD']"
                        ]
                    },
                    "metadata": {},
                    "output_type": "display_data"
                },
                {
                    "data": {
                        "text/plain": [
                            "2"
                        ]
                    },
                    "metadata": {},
                    "output_type": "display_data"
                },
                {
                    "name": "stdout",
                    "output_type": "stream",
                    "text": [
                        "Supporting Actors\n"
                    ]
                },
                {
                    "data": {
                        "text/plain": [
                            "['GABRIELLE ANWAR',\n",
                            " 'TREAT WILLIAMS',\n",
                            " 'ANDY GARCÍA',\n",
                            " 'JENNY MCCARTHY',\n",
                            " 'SARAH TRIGGER',\n",
                            " 'WILLIAM FORSYTHE',\n",
                            " 'BILL ERWIN',\n",
                            " 'MICHAEL NICOLOSI',\n",
                            " 'STEVE BUSCEMI',\n",
                            " 'FAIRUZA BALK',\n",
                            " 'DAVID STRATTON',\n",
                            " 'JACK WARDEN',\n",
                            " 'BILL NUNN']"
                        ]
                    },
                    "metadata": {},
                    "output_type": "display_data"
                },
                {
                    "data": {
                        "text/plain": [
                            "3"
                        ]
                    },
                    "metadata": {},
                    "output_type": "display_data"
                },
                {
                    "name": "stdout",
                    "output_type": "stream",
                    "text": [
                        "Movie Cast\n"
                    ]
                },
                {
                    "data": {
                        "text/plain": [
                            "['ANDY GARCÍA',\n",
                            " 'CHRISTOPHER LLOYD',\n",
                            " 'WILLIAM FORSYTHE',\n",
                            " 'BILL NUNN',\n",
                            " 'TREAT WILLIAMS',\n",
                            " 'JACK WARDEN',\n",
                            " 'STEVE BUSCEMI',\n",
                            " 'FAIRUZA BALK',\n",
                            " 'GABRIELLE ANWAR',\n",
                            " 'CHRISTOPHER WALKEN',\n",
                            " 'MICHAEL NICOLOSI',\n",
                            " 'SARAH TRIGGER',\n",
                            " 'DAVID STRATTON',\n",
                            " 'JENNY MCCARTHY',\n",
                            " 'BILL ERWIN']"
                        ]
                    },
                    "metadata": {},
                    "output_type": "display_data"
                },
                {
                    "data": {
                        "text/plain": [
                            "4"
                        ]
                    },
                    "metadata": {},
                    "output_type": "display_data"
                },
                {
                    "name": "stdout",
                    "output_type": "stream",
                    "text": [
                        "Next row...\n",
                        "Index: 896\n",
                        "The Air I Breathe\n",
                        "Lead Actors\n"
                    ]
                },
                {
                    "data": {
                        "text/plain": [
                            "['BRENDAN FRASER', 'SARAH MICHELLE GELLAR', 'ANDY GARCIA']"
                        ]
                    },
                    "metadata": {},
                    "output_type": "display_data"
                },
                {
                    "data": {
                        "text/plain": [
                            "3"
                        ]
                    },
                    "metadata": {},
                    "output_type": "display_data"
                },
                {
                    "name": "stdout",
                    "output_type": "stream",
                    "text": [
                        "Supporting Actors\n"
                    ]
                },
                {
                    "data": {
                        "text/plain": [
                            "['FOREST WHITAKER',\n",
                            " 'EVAN PARKE',\n",
                            " 'ANDY GARCÍA',\n",
                            " 'CLARK GREGG',\n",
                            " 'CECILIA SUÁREZ',\n",
                            " 'TODD STASHWICK',\n",
                            " 'KEVIN BACON',\n",
                            " 'EMILE HIRSCH',\n",
                            " 'VICTOR RIVERS',\n",
                            " 'KELLY HU',\n",
                            " 'TAYLOR NICHOLS',\n",
                            " 'JULIE DELPY',\n",
                            " 'JON BERNTHAL']"
                        ]
                    },
                    "metadata": {},
                    "output_type": "display_data"
                },
                {
                    "data": {
                        "text/plain": [
                            "3"
                        ]
                    },
                    "metadata": {},
                    "output_type": "display_data"
                },
                {
                    "name": "stdout",
                    "output_type": "stream",
                    "text": [
                        "Movie Cast\n"
                    ]
                },
                {
                    "data": {
                        "text/plain": [
                            "['BRENDAN FRASER',\n",
                            " 'ANDY GARCÍA',\n",
                            " 'KEVIN BACON',\n",
                            " 'SARAH MICHELLE GELLAR',\n",
                            " 'CLARK GREGG',\n",
                            " 'EMILE HIRSCH',\n",
                            " 'FOREST WHITAKER',\n",
                            " 'KELLY HU',\n",
                            " 'EVAN PARKE',\n",
                            " 'TAYLOR NICHOLS',\n",
                            " 'VICTOR RIVERS',\n",
                            " 'CECILIA SUÁREZ',\n",
                            " 'TODD STASHWICK',\n",
                            " 'JON BERNTHAL',\n",
                            " 'JULIE DELPY']"
                        ]
                    },
                    "metadata": {},
                    "output_type": "display_data"
                },
                {
                    "data": {
                        "text/plain": [
                            "4"
                        ]
                    },
                    "metadata": {},
                    "output_type": "display_data"
                },
                {
                    "name": "stdout",
                    "output_type": "stream",
                    "text": [
                        "Next row...\n",
                        "Index: 942\n",
                        "Killa Season\n",
                        "Lead Actors\n"
                    ]
                },
                {
                    "data": {
                        "text/plain": [
                            "[\"CAM'RON\", 'DURREL MOHAMMAD', 'JUELZ SANTANA', 'MICHAEL WILLIAMS']"
                        ]
                    },
                    "metadata": {},
                    "output_type": "display_data"
                },
                {
                    "data": {
                        "text/plain": [
                            "1"
                        ]
                    },
                    "metadata": {},
                    "output_type": "display_data"
                },
                {
                    "name": "stdout",
                    "output_type": "stream",
                    "text": [
                        "Supporting Actors\n"
                    ]
                },
                {
                    "data": {
                        "text/plain": [
                            "['FUNKMASTER FLEX',\n",
                            " 'MICHAEL KENNETH WILLIAMS',\n",
                            " 'OSAS IGHODARO',\n",
                            " 'GREYSON CRUZ']"
                        ]
                    },
                    "metadata": {},
                    "output_type": "display_data"
                },
                {
                    "data": {
                        "text/plain": [
                            "0"
                        ]
                    },
                    "metadata": {},
                    "output_type": "display_data"
                },
                {
                    "name": "stdout",
                    "output_type": "stream",
                    "text": [
                        "Movie Cast\n"
                    ]
                },
                {
                    "data": {
                        "text/plain": [
                            "[\"CAM'RON\",\n",
                            " 'DURREL MOHAMMAD',\n",
                            " 'JUELZ SANTANA',\n",
                            " 'MICHAEL KENNETH WILLIAMS',\n",
                            " 'FUNKMASTER FLEX',\n",
                            " 'GREYSON CRUZ',\n",
                            " 'OSAS IGHODARO']"
                        ]
                    },
                    "metadata": {},
                    "output_type": "display_data"
                },
                {
                    "data": {
                        "text/plain": [
                            "0"
                        ]
                    },
                    "metadata": {},
                    "output_type": "display_data"
                },
                {
                    "name": "stdout",
                    "output_type": "stream",
                    "text": [
                        "Next row...\n",
                        "Index: 966\n",
                        "The Perfect Holiday\n",
                        "Lead Actors\n"
                    ]
                },
                {
                    "data": {
                        "text/plain": [
                            "['GABRIELLE UNION', 'MORRIS CHESTNUT', 'QUEEN LATIFAH']"
                        ]
                    },
                    "metadata": {},
                    "output_type": "display_data"
                },
                {
                    "data": {
                        "text/plain": [
                            "1"
                        ]
                    },
                    "metadata": {},
                    "output_type": "display_data"
                },
                {
                    "name": "stdout",
                    "output_type": "stream",
                    "text": [
                        "Supporting Actors\n"
                    ]
                },
                {
                    "data": {
                        "text/plain": [
                            "[\"JOHN 'B.J.' BRYANT\",\n",
                            " 'PEDRO KIM',\n",
                            " 'KHAIL BRYANT',\n",
                            " 'FRANK BONSANGUE',\n",
                            " 'MODI',\n",
                            " 'PAUL WOODBUM',\n",
                            " 'MALIK HAMMOND',\n",
                            " 'KATT WILLIAMS',\n",
                            " 'JILL MARIE JONES',\n",
                            " 'DAVID ANZUELO',\n",
                            " 'CHARLIE MURPHY',\n",
                            " 'RACHEL TRUE',\n",
                            " 'FAIZON LOVE']"
                        ]
                    },
                    "metadata": {},
                    "output_type": "display_data"
                },
                {
                    "data": {
                        "text/plain": [
                            "2"
                        ]
                    },
                    "metadata": {},
                    "output_type": "display_data"
                },
                {
                    "name": "stdout",
                    "output_type": "stream",
                    "text": [
                        "Movie Cast\n"
                    ]
                },
                {
                    "data": {
                        "text/plain": [
                            "['MORRIS CHESTNUT',\n",
                            " 'GABRIELLE UNION',\n",
                            " 'FAIZON LOVE',\n",
                            " 'CHARLIE MURPHY',\n",
                            " 'KATT WILLIAMS',\n",
                            " 'JILL MARIE JONES',\n",
                            " 'RACHEL TRUE',\n",
                            " 'MALIK HAMMOND',\n",
                            " 'KHAIL BRYANT',\n",
                            " 'PEDRO KIM',\n",
                            " 'DAVID ANZUELO',\n",
                            " 'FRANK BONSANGUE',\n",
                            " \"JOHN 'B.J.' BRYANT\",\n",
                            " 'PAUL WOODBUM',\n",
                            " 'MODI']"
                        ]
                    },
                    "metadata": {},
                    "output_type": "display_data"
                },
                {
                    "data": {
                        "text/plain": [
                            "2"
                        ]
                    },
                    "metadata": {},
                    "output_type": "display_data"
                },
                {
                    "name": "stdout",
                    "output_type": "stream",
                    "text": [
                        "Next row...\n",
                        "Index: 1067\n",
                        "La linea\n",
                        "Lead Actors\n"
                    ]
                },
                {
                    "data": {
                        "text/plain": [
                            "['RAY LIOTTA', 'ANDY GARCIA', 'ESAI MORALES']"
                        ]
                    },
                    "metadata": {},
                    "output_type": "display_data"
                },
                {
                    "data": {
                        "text/plain": [
                            "3"
                        ]
                    },
                    "metadata": {},
                    "output_type": "display_data"
                },
                {
                    "name": "stdout",
                    "output_type": "stream",
                    "text": [
                        "Supporting Actors\n"
                    ]
                },
                {
                    "data": {
                        "text/plain": [
                            "['JASON CONNERY',\n",
                            " 'VICTORIA ELIZABETH',\n",
                            " 'JOE MORTON',\n",
                            " 'ANDY GARCÍA',\n",
                            " 'BRUCE DAVISON',\n",
                            " 'JORDI VILASUSO',\n",
                            " 'VALERIE CRUZ',\n",
                            " 'DANNY TREJO',\n",
                            " 'KEVIN GAGE',\n",
                            " 'ARMAND ASSANTE',\n",
                            " 'DAVID ACKERT',\n",
                            " 'GARY DANIELS',\n",
                            " 'MICHAEL DELORENZO']"
                        ]
                    },
                    "metadata": {},
                    "output_type": "display_data"
                },
                {
                    "data": {
                        "text/plain": [
                            "5"
                        ]
                    },
                    "metadata": {},
                    "output_type": "display_data"
                },
                {
                    "name": "stdout",
                    "output_type": "stream",
                    "text": [
                        "Movie Cast\n"
                    ]
                },
                {
                    "data": {
                        "text/plain": [
                            "['RAY LIOTTA',\n",
                            " 'ANDY GARCÍA',\n",
                            " 'ESAI MORALES',\n",
                            " 'ARMAND ASSANTE',\n",
                            " 'VALERIE CRUZ',\n",
                            " 'KEVIN GAGE',\n",
                            " 'BRUCE DAVISON',\n",
                            " 'JOE MORTON',\n",
                            " 'DANNY TREJO',\n",
                            " 'GARY DANIELS',\n",
                            " 'MICHAEL DELORENZO',\n",
                            " 'DAVID ACKERT',\n",
                            " 'JASON CONNERY',\n",
                            " 'VICTORIA ELIZABETH',\n",
                            " 'JORDI VILASUSO']"
                        ]
                    },
                    "metadata": {},
                    "output_type": "display_data"
                },
                {
                    "data": {
                        "text/plain": [
                            "6"
                        ]
                    },
                    "metadata": {},
                    "output_type": "display_data"
                },
                {
                    "name": "stdout",
                    "output_type": "stream",
                    "text": [
                        "Next row...\n",
                        "Index: 1093\n",
                        "AFI Life Achievement Award: A Tribute to Al Pacino\n",
                        "Lead Actors\n"
                    ]
                },
                {
                    "data": {
                        "text/plain": [
                            "['GABRIELLE ANWAR', 'JON AVNET', 'CAROLE BAYER SAGER']"
                        ]
                    },
                    "metadata": {},
                    "output_type": "display_data"
                },
                {
                    "data": {
                        "text/plain": [
                            "10"
                        ]
                    },
                    "metadata": {},
                    "output_type": "display_data"
                },
                {
                    "name": "stdout",
                    "output_type": "stream",
                    "text": [
                        "Supporting Actors\n"
                    ]
                },
                {
                    "data": {
                        "text/plain": [
                            "['SEAN CONNERY',\n",
                            " 'FRANCIS FORD COPPOLA',\n",
                            " 'GEORGE CLOONEY',\n",
                            " 'JAMIE FOXX',\n",
                            " 'ANDY GARCÍA',\n",
                            " 'ED HARRIS',\n",
                            " 'AL PACINO',\n",
                            " \"CHRIS O'DONNELL\",\n",
                            " 'GEORGE LOPEZ',\n",
                            " 'SIDNEY LUMET',\n",
                            " 'SAMUEL L. JACKSON',\n",
                            " 'MICHAEL MANN',\n",
                            " 'KIRK DOUGLAS',\n",
                            " 'ROBIN WILLIAMS']"
                        ]
                    },
                    "metadata": {},
                    "output_type": "display_data"
                },
                {
                    "data": {
                        "text/plain": [
                            "66"
                        ]
                    },
                    "metadata": {},
                    "output_type": "display_data"
                },
                {
                    "name": "stdout",
                    "output_type": "stream",
                    "text": [
                        "Movie Cast\n"
                    ]
                },
                {
                    "data": {
                        "text/plain": [
                            "['AL PACINO',\n",
                            " 'JAMIE FOXX',\n",
                            " 'ROBIN WILLIAMS',\n",
                            " 'SEAN CONNERY',\n",
                            " 'GABRIELLE ANWAR',\n",
                            " 'GEORGE CLOONEY',\n",
                            " 'FRANCIS FORD COPPOLA',\n",
                            " 'KIRK DOUGLAS',\n",
                            " 'ANDY GARCÍA',\n",
                            " 'ED HARRIS',\n",
                            " 'SAMUEL L. JACKSON',\n",
                            " 'GEORGE LOPEZ',\n",
                            " 'SIDNEY LUMET',\n",
                            " 'MICHAEL MANN',\n",
                            " \"CHRIS O'DONNELL\"]"
                        ]
                    },
                    "metadata": {},
                    "output_type": "display_data"
                },
                {
                    "data": {
                        "text/plain": [
                            "66"
                        ]
                    },
                    "metadata": {},
                    "output_type": "display_data"
                },
                {
                    "name": "stdout",
                    "output_type": "stream",
                    "text": [
                        "Next row...\n",
                        "Index: 1096\n",
                        "The People Speak\n",
                        "Lead Actors\n"
                    ]
                },
                {
                    "data": {
                        "text/plain": [
                            "['DAVID STRATHAIRN', 'MATT DAMON', 'MARISA TOMEI', 'VIGGO MORTENSEN']"
                        ]
                    },
                    "metadata": {},
                    "output_type": "display_data"
                },
                {
                    "data": {
                        "text/plain": [
                            "8"
                        ]
                    },
                    "metadata": {},
                    "output_type": "display_data"
                },
                {
                    "name": "stdout",
                    "output_type": "stream",
                    "text": [
                        "Supporting Actors\n"
                    ]
                },
                {
                    "data": {
                        "text/plain": [
                            "['JOSH BROLIN',\n",
                            " 'SANDRA OH',\n",
                            " 'ROSARIO DAWSON',\n",
                            " 'DON CHEADLE',\n",
                            " 'KERRY WASHINGTON',\n",
                            " 'DANNY GLOVER',\n",
                            " 'MICHAEL EALY',\n",
                            " 'JOHN LEGEND',\n",
                            " \"Q'ORIANKA KILCHER\",\n",
                            " 'SEAN PENN',\n",
                            " 'MORGAN FREEMAN',\n",
                            " 'BENJAMIN BRATT']"
                        ]
                    },
                    "metadata": {},
                    "output_type": "display_data"
                },
                {
                    "data": {
                        "text/plain": [
                            "13"
                        ]
                    },
                    "metadata": {},
                    "output_type": "display_data"
                },
                {
                    "name": "stdout",
                    "output_type": "stream",
                    "text": [
                        "Movie Cast\n"
                    ]
                },
                {
                    "data": {
                        "text/plain": [
                            "['ROSARIO DAWSON',\n",
                            " 'MORGAN FREEMAN',\n",
                            " 'MARISA TOMEI',\n",
                            " 'SEAN PENN',\n",
                            " 'VIGGO MORTENSEN',\n",
                            " 'JOSH BROLIN',\n",
                            " 'KERRY WASHINGTON',\n",
                            " 'DAVID STRATHAIRN',\n",
                            " 'DON CHEADLE',\n",
                            " 'SANDRA OH',\n",
                            " 'BENJAMIN BRATT',\n",
                            " 'DANNY GLOVER',\n",
                            " 'MICHAEL EALY',\n",
                            " 'JOHN LEGEND',\n",
                            " \"Q'ORIANKA KILCHER\"]"
                        ]
                    },
                    "metadata": {},
                    "output_type": "display_data"
                },
                {
                    "data": {
                        "text/plain": [
                            "18"
                        ]
                    },
                    "metadata": {},
                    "output_type": "display_data"
                },
                {
                    "name": "stdout",
                    "output_type": "stream",
                    "text": [
                        "Next row...\n",
                        "Index: 1156\n",
                        "Belly 2: Millionaire Boyz Club\n",
                        "Lead Actors\n"
                    ]
                },
                {
                    "data": {
                        "text/plain": [
                            "['GAME', 'TAYE HANSBERRY', 'SKI CARR', 'MICHAEL KENNETH WILLIAMS']"
                        ]
                    },
                    "metadata": {},
                    "output_type": "display_data"
                },
                {
                    "data": {
                        "text/plain": [
                            "4"
                        ]
                    },
                    "metadata": {},
                    "output_type": "display_data"
                },
                {
                    "name": "stdout",
                    "output_type": "stream",
                    "text": [
                        "Supporting Actors\n"
                    ]
                },
                {
                    "data": {
                        "text/plain": [
                            "['WC',\n",
                            " 'ADAM AMBRUSO',\n",
                            " 'SHARI HEADLEY',\n",
                            " 'JAYCEON TERRELL TAYLOR',\n",
                            " 'SEAN BLAKEMORE',\n",
                            " 'ARIA LONDON',\n",
                            " 'JENNIFER RODRIGUEZ']"
                        ]
                    },
                    "metadata": {},
                    "output_type": "display_data"
                },
                {
                    "data": {
                        "text/plain": [
                            "8"
                        ]
                    },
                    "metadata": {},
                    "output_type": "display_data"
                },
                {
                    "name": "stdout",
                    "output_type": "stream",
                    "text": [
                        "Movie Cast\n"
                    ]
                },
                {
                    "data": {
                        "text/plain": [
                            "['JAYCEON TERRELL TAYLOR',\n",
                            " 'TAYE HANSBERRY',\n",
                            " 'SKI CARR',\n",
                            " 'MICHAEL KENNETH WILLIAMS',\n",
                            " 'ADAM AMBRUSO',\n",
                            " 'WC',\n",
                            " 'SEAN BLAKEMORE',\n",
                            " 'SHARI HEADLEY',\n",
                            " 'ARIA LONDON',\n",
                            " 'JENNIFER RODRIGUEZ']"
                        ]
                    },
                    "metadata": {},
                    "output_type": "display_data"
                },
                {
                    "data": {
                        "text/plain": [
                            "8"
                        ]
                    },
                    "metadata": {},
                    "output_type": "display_data"
                },
                {
                    "name": "stdout",
                    "output_type": "stream",
                    "text": [
                        "Next row...\n",
                        "Index: 1160\n",
                        "Between the World and Me\n",
                        "Lead Actors\n"
                    ]
                },
                {
                    "data": {
                        "text/plain": [
                            "['MAHERSHALA ALI', 'ANGELA BASSETT', 'TA-NEHISI COATES', 'ANGELA DAVIS']"
                        ]
                    },
                    "metadata": {},
                    "output_type": "display_data"
                },
                {
                    "data": {
                        "text/plain": [
                            "3"
                        ]
                    },
                    "metadata": {},
                    "output_type": "display_data"
                },
                {
                    "name": "stdout",
                    "output_type": "stream",
                    "text": [
                        "Supporting Actors\n"
                    ]
                },
                {
                    "data": {
                        "text/plain": [
                            "['YARA SHAHIDI',\n",
                            " 'PHYLICIA RASHĀD',\n",
                            " 'JOE MORTON',\n",
                            " 'KENDRICK SAMPSON',\n",
                            " 'WENDELL PIERCE',\n",
                            " 'JANET MOCK',\n",
                            " 'ALICIA GARZA',\n",
                            " 'MJ RODRIGUEZ',\n",
                            " 'SUSAN KELECHI WATSON',\n",
                            " 'JHARREL JEROME',\n",
                            " 'PAULETTA WASHINGTON',\n",
                            " 'COURTNEY B. VANCE',\n",
                            " 'BLACK THOUGHT']"
                        ]
                    },
                    "metadata": {},
                    "output_type": "display_data"
                },
                {
                    "data": {
                        "text/plain": [
                            "1"
                        ]
                    },
                    "metadata": {},
                    "output_type": "display_data"
                },
                {
                    "name": "stdout",
                    "output_type": "stream",
                    "text": [
                        "Movie Cast\n"
                    ]
                },
                {
                    "data": {
                        "text/plain": [
                            "['TA-NEHISI COATES',\n",
                            " 'ANGELA BASSETT',\n",
                            " 'ALICIA GARZA',\n",
                            " 'JHARREL JEROME',\n",
                            " 'JANET MOCK',\n",
                            " 'JOE MORTON',\n",
                            " 'WENDELL PIERCE',\n",
                            " 'PHYLICIA RASHĀD',\n",
                            " 'MJ RODRIGUEZ',\n",
                            " 'KENDRICK SAMPSON',\n",
                            " 'YARA SHAHIDI',\n",
                            " 'BLACK THOUGHT',\n",
                            " 'COURTNEY B. VANCE',\n",
                            " 'PAULETTA WASHINGTON',\n",
                            " 'SUSAN KELECHI WATSON']"
                        ]
                    },
                    "metadata": {},
                    "output_type": "display_data"
                },
                {
                    "data": {
                        "text/plain": [
                            "2"
                        ]
                    },
                    "metadata": {},
                    "output_type": "display_data"
                },
                {
                    "name": "stdout",
                    "output_type": "stream",
                    "text": [
                        "Next row...\n",
                        "Index: 1418\n",
                        "8\n",
                        "Lead Actors\n"
                    ]
                },
                {
                    "data": {
                        "text/plain": [
                            "['KEVIN BACON', 'DUSTIN LANCE BLACK', 'DAVID BOIES', 'MATT BOMER']"
                        ]
                    },
                    "metadata": {},
                    "output_type": "display_data"
                },
                {
                    "data": {
                        "text/plain": [
                            "3"
                        ]
                    },
                    "metadata": {},
                    "output_type": "display_data"
                },
                {
                    "name": "stdout",
                    "output_type": "stream",
                    "text": [
                        "Supporting Actors\n"
                    ]
                },
                {
                    "data": {
                        "text/plain": [
                            "['BRIDGER ZADINA',\n",
                            " 'JOHN C. REILLY',\n",
                            " 'BRAD PITT',\n",
                            " 'GEORGE CLOONEY',\n",
                            " 'JANE LYNCH',\n",
                            " 'MARTIN SHEEN',\n",
                            " 'GEORGE TAKEI',\n",
                            " 'JAMIE LEE CURTIS',\n",
                            " 'JESSE TYLER FERGUSON',\n",
                            " \"RORY O'MALLEY\",\n",
                            " 'CHRISTINE LAHTI',\n",
                            " 'CHRIS COLFER',\n",
                            " 'YEARDLEY SMITH']"
                        ]
                    },
                    "metadata": {},
                    "output_type": "display_data"
                },
                {
                    "data": {
                        "text/plain": [
                            "40"
                        ]
                    },
                    "metadata": {},
                    "output_type": "display_data"
                },
                {
                    "name": "stdout",
                    "output_type": "stream",
                    "text": [
                        "Movie Cast\n"
                    ]
                },
                {
                    "data": {
                        "text/plain": [
                            "['KEVIN BACON',\n",
                            " 'MATT BOMER',\n",
                            " 'GEORGE CLOONEY',\n",
                            " 'CHRIS COLFER',\n",
                            " 'JAMIE LEE CURTIS',\n",
                            " 'JESSE TYLER FERGUSON',\n",
                            " 'JANE LYNCH',\n",
                            " \"RORY O'MALLEY\",\n",
                            " 'CHRISTINE LAHTI',\n",
                            " 'BRAD PITT',\n",
                            " 'JOHN C. REILLY',\n",
                            " 'MARTIN SHEEN',\n",
                            " 'GEORGE TAKEI',\n",
                            " 'BRIDGER ZADINA',\n",
                            " 'YEARDLEY SMITH']"
                        ]
                    },
                    "metadata": {},
                    "output_type": "display_data"
                },
                {
                    "data": {
                        "text/plain": [
                            "42"
                        ]
                    },
                    "metadata": {},
                    "output_type": "display_data"
                },
                {
                    "name": "stdout",
                    "output_type": "stream",
                    "text": [
                        "Next row...\n",
                        "Index: 1442\n",
                        "The Furious Gods: Making Prometheus\n",
                        "Lead Actors\n"
                    ]
                },
                {
                    "data": {
                        "text/plain": [
                            "['STEVE BURG', 'IDRIS ELBA', 'MICHAEL ELLENBERG']"
                        ]
                    },
                    "metadata": {},
                    "output_type": "display_data"
                },
                {
                    "data": {
                        "text/plain": [
                            "2"
                        ]
                    },
                    "metadata": {},
                    "output_type": "display_data"
                },
                {
                    "name": "stdout",
                    "output_type": "stream",
                    "text": [
                        "Supporting Actors\n"
                    ]
                },
                {
                    "data": {
                        "text/plain": [
                            "['JON SPAIHTS',\n",
                            " 'ALLEN MARIS',\n",
                            " 'PIETRO SCALIA',\n",
                            " 'MARK HUFFAM',\n",
                            " 'CHARLIZE THERON',\n",
                            " 'JANTY YATES',\n",
                            " 'RIDLEY SCOTT',\n",
                            " 'STEVEN MESSING',\n",
                            " 'DAMON LINDELOF',\n",
                            " 'NOOMI RAPACE',\n",
                            " 'ARTHUR MAX',\n",
                            " 'NEVILLE PAGE',\n",
                            " 'DARIUSZ WOLSKI',\n",
                            " 'GUY PEARCE']"
                        ]
                    },
                    "metadata": {},
                    "output_type": "display_data"
                },
                {
                    "data": {
                        "text/plain": [
                            "10"
                        ]
                    },
                    "metadata": {},
                    "output_type": "display_data"
                },
                {
                    "name": "stdout",
                    "output_type": "stream",
                    "text": [
                        "Movie Cast\n"
                    ]
                },
                {
                    "data": {
                        "text/plain": [
                            "['RIDLEY SCOTT',\n",
                            " 'NOOMI RAPACE',\n",
                            " 'CHARLIZE THERON',\n",
                            " 'GUY PEARCE',\n",
                            " 'DAMON LINDELOF',\n",
                            " 'JON SPAIHTS',\n",
                            " 'PIETRO SCALIA',\n",
                            " 'DARIUSZ WOLSKI',\n",
                            " 'ARTHUR MAX',\n",
                            " 'JANTY YATES',\n",
                            " 'MICHAEL ELLENBERG',\n",
                            " 'MARK HUFFAM',\n",
                            " 'ALLEN MARIS',\n",
                            " 'STEVEN MESSING',\n",
                            " 'NEVILLE PAGE']"
                        ]
                    },
                    "metadata": {},
                    "output_type": "display_data"
                },
                {
                    "data": {
                        "text/plain": [
                            "10"
                        ]
                    },
                    "metadata": {},
                    "output_type": "display_data"
                },
                {
                    "name": "stdout",
                    "output_type": "stream",
                    "text": [
                        "Next row...\n",
                        "Index: 1570\n",
                        "Avengers: Infinity War\n",
                        "Lead Actors\n"
                    ]
                },
                {
                    "data": {
                        "text/plain": [
                            "['ROBERT DOWNEY JR.', 'CHRIS HEMSWORTH', 'MARK RUFFALO', 'CHRIS EVANS']"
                        ]
                    },
                    "metadata": {},
                    "output_type": "display_data"
                },
                {
                    "data": {
                        "text/plain": [
                            "6"
                        ]
                    },
                    "metadata": {},
                    "output_type": "display_data"
                },
                {
                    "name": "stdout",
                    "output_type": "stream",
                    "text": [
                        "Supporting Actors\n"
                    ]
                },
                {
                    "data": {
                        "text/plain": [
                            "['TOM HIDDLESTON',\n",
                            " 'CHADWICK BOSEMAN',\n",
                            " 'ELIZABETH OLSEN',\n",
                            " 'SCARLETT JOHANSSON',\n",
                            " 'ZOE SALDANA',\n",
                            " 'BENEDICT CUMBERBATCH',\n",
                            " 'KAREN GILLAN',\n",
                            " 'DON CHEADLE',\n",
                            " 'PAUL BETTANY',\n",
                            " 'TOM HOLLAND',\n",
                            " 'ANTHONY MACKIE',\n",
                            " 'SEBASTIAN STAN']"
                        ]
                    },
                    "metadata": {},
                    "output_type": "display_data"
                },
                {
                    "data": {
                        "text/plain": [
                            "11"
                        ]
                    },
                    "metadata": {},
                    "output_type": "display_data"
                },
                {
                    "name": "stdout",
                    "output_type": "stream",
                    "text": [
                        "Movie Cast\n"
                    ]
                },
                {
                    "data": {
                        "text/plain": [
                            "['ROBERT DOWNEY JR.',\n",
                            " 'CHRIS HEMSWORTH',\n",
                            " 'CHRIS EVANS',\n",
                            " 'SCARLETT JOHANSSON',\n",
                            " 'BENEDICT CUMBERBATCH',\n",
                            " 'TOM HOLLAND',\n",
                            " 'CHADWICK BOSEMAN',\n",
                            " 'DON CHEADLE',\n",
                            " 'ZOE SALDANA',\n",
                            " 'KAREN GILLAN',\n",
                            " 'ELIZABETH OLSEN',\n",
                            " 'PAUL BETTANY',\n",
                            " 'ANTHONY MACKIE',\n",
                            " 'SEBASTIAN STAN',\n",
                            " 'TOM HIDDLESTON']"
                        ]
                    },
                    "metadata": {},
                    "output_type": "display_data"
                },
                {
                    "data": {
                        "text/plain": [
                            "15"
                        ]
                    },
                    "metadata": {},
                    "output_type": "display_data"
                },
                {
                    "name": "stdout",
                    "output_type": "stream",
                    "text": [
                        "Next row...\n",
                        "Index: 1577\n",
                        "Lennon or McCartney\n",
                        "Lead Actors\n"
                    ]
                },
                {
                    "data": {
                        "text/plain": [
                            "['AARON PAUL', 'AASIF MANDVI', 'ADAM LAMBERT']"
                        ]
                    },
                    "metadata": {},
                    "output_type": "display_data"
                },
                {
                    "data": {
                        "text/plain": [
                            "1"
                        ]
                    },
                    "metadata": {},
                    "output_type": "display_data"
                },
                {
                    "name": "stdout",
                    "output_type": "stream",
                    "text": [
                        "Supporting Actors\n"
                    ]
                },
                {
                    "data": {
                        "text/plain": [
                            "['JIMMY CLIFF',\n",
                            " 'RENO COLLIER',\n",
                            " 'DYLAN BRUCE',\n",
                            " 'TOMMY CHONG',\n",
                            " 'KELLY ASBURY',\n",
                            " 'ASHLEIGH BALL',\n",
                            " 'MARGARET CHO',\n",
                            " 'PIERRE BOUVIER',\n",
                            " 'NIMRÓD ANTAL',\n",
                            " 'RODRIGO CORTÉS',\n",
                            " 'IAN ASTBURY',\n",
                            " 'LEVAR BURTON',\n",
                            " 'STEPHEN BISHOP',\n",
                            " 'JEFF BAENA',\n",
                            " 'DAVID BYRNE']"
                        ]
                    },
                    "metadata": {},
                    "output_type": "display_data"
                },
                {
                    "data": {
                        "text/plain": [
                            "2"
                        ]
                    },
                    "metadata": {},
                    "output_type": "display_data"
                },
                {
                    "name": "stdout",
                    "output_type": "stream",
                    "text": [
                        "Movie Cast\n"
                    ]
                },
                {
                    "data": {
                        "text/plain": [
                            "['NIMRÓD ANTAL',\n",
                            " 'KELLY ASBURY',\n",
                            " 'IAN ASTBURY',\n",
                            " 'JEFF BAENA',\n",
                            " 'ASHLEIGH BALL',\n",
                            " 'STEPHEN BISHOP',\n",
                            " 'PIERRE BOUVIER',\n",
                            " 'DYLAN BRUCE',\n",
                            " 'LEVAR BURTON',\n",
                            " 'DAVID BYRNE',\n",
                            " 'MARGARET CHO',\n",
                            " 'TOMMY CHONG',\n",
                            " 'JIMMY CLIFF',\n",
                            " 'RENO COLLIER',\n",
                            " 'RODRIGO CORTÉS']"
                        ]
                    },
                    "metadata": {},
                    "output_type": "display_data"
                },
                {
                    "data": {
                        "text/plain": [
                            "2"
                        ]
                    },
                    "metadata": {},
                    "output_type": "display_data"
                },
                {
                    "name": "stdout",
                    "output_type": "stream",
                    "text": [
                        "Next row...\n",
                        "Index: 1634\n",
                        "Taylor Swift: The 1989 World Tour Live\n",
                        "Lead Actors\n"
                    ]
                },
                {
                    "data": {
                        "text/plain": [
                            "['TAYLOR SWIFT', 'UZO ADUBA', 'LILY ALDRIDGE', 'ABIGAIL ANDERSON']"
                        ]
                    },
                    "metadata": {},
                    "output_type": "display_data"
                },
                {
                    "data": {
                        "text/plain": [
                            "3"
                        ]
                    },
                    "metadata": {},
                    "output_type": "display_data"
                },
                {
                    "name": "stdout",
                    "output_type": "stream",
                    "text": [
                        "Supporting Actors\n"
                    ]
                },
                {
                    "data": {
                        "text/plain": [
                            "['MICK JAGGER',\n",
                            " 'MARISKA HARGITAY',\n",
                            " 'LENA DUNHAM',\n",
                            " 'JAIME KING',\n",
                            " 'LORDE',\n",
                            " 'KARLIE KLOSS',\n",
                            " 'CARA DELEVINGNE',\n",
                            " 'SELENA GOMEZ',\n",
                            " 'NICK JONAS',\n",
                            " 'ELLEN DEGENERES',\n",
                            " 'JOHN LEGEND',\n",
                            " 'HEIDI KLUM',\n",
                            " 'IDINA MENZEL',\n",
                            " 'ELLIE GOULDING']"
                        ]
                    },
                    "metadata": {},
                    "output_type": "display_data"
                },
                {
                    "data": {
                        "text/plain": [
                            "11"
                        ]
                    },
                    "metadata": {},
                    "output_type": "display_data"
                },
                {
                    "name": "stdout",
                    "output_type": "stream",
                    "text": [
                        "Movie Cast\n"
                    ]
                },
                {
                    "data": {
                        "text/plain": [
                            "['TAYLOR SWIFT',\n",
                            " 'ELLEN DEGENERES',\n",
                            " 'CARA DELEVINGNE',\n",
                            " 'LENA DUNHAM',\n",
                            " 'SELENA GOMEZ',\n",
                            " 'ELLIE GOULDING',\n",
                            " 'MARISKA HARGITAY',\n",
                            " 'MICK JAGGER',\n",
                            " 'NICK JONAS',\n",
                            " 'JAIME KING',\n",
                            " 'KARLIE KLOSS',\n",
                            " 'HEIDI KLUM',\n",
                            " 'JOHN LEGEND',\n",
                            " 'LORDE',\n",
                            " 'IDINA MENZEL']"
                        ]
                    },
                    "metadata": {},
                    "output_type": "display_data"
                },
                {
                    "data": {
                        "text/plain": [
                            "13"
                        ]
                    },
                    "metadata": {},
                    "output_type": "display_data"
                },
                {
                    "name": "stdout",
                    "output_type": "stream",
                    "text": [
                        "Next row...\n",
                        "Index: 1646\n",
                        "Roy Orbison: One of the Lonely Ones\n",
                        "Lead Actors\n"
                    ]
                },
                {
                    "data": {
                        "text/plain": [
                            "['ROY ORBISON', 'CLARKE PETERS', 'THE BEATLES', 'HAROLD BRADLEY']"
                        ]
                    },
                    "metadata": {},
                    "output_type": "display_data"
                },
                {
                    "data": {
                        "text/plain": [
                            "1"
                        ]
                    },
                    "metadata": {},
                    "output_type": "display_data"
                },
                {
                    "name": "stdout",
                    "output_type": "stream",
                    "text": [
                        "Supporting Actors\n"
                    ]
                },
                {
                    "data": {
                        "text/plain": [
                            "['WESLEY ORBISON',\n",
                            " 'BARBARA ORBISON',\n",
                            " 'ROY ORBISON JR.',\n",
                            " 'ALEX ORBISON',\n",
                            " 'BOBBY GOLDSBORO',\n",
                            " 'FRED FOSTER',\n",
                            " 'JEFF LYNNE',\n",
                            " 'MARIANNE FAITHFULL',\n",
                            " 'T BONE BURNETT',\n",
                            " 'JERRY KENNEDY',\n",
                            " 'TERRY WIDLAKE',\n",
                            " 'JOE MELSON']"
                        ]
                    },
                    "metadata": {},
                    "output_type": "display_data"
                },
                {
                    "data": {
                        "text/plain": [
                            "4"
                        ]
                    },
                    "metadata": {},
                    "output_type": "display_data"
                },
                {
                    "name": "stdout",
                    "output_type": "stream",
                    "text": [
                        "Movie Cast\n"
                    ]
                },
                {
                    "data": {
                        "text/plain": [
                            "['CLARKE PETERS',\n",
                            " 'ROY ORBISON',\n",
                            " 'ALEX ORBISON',\n",
                            " 'ROY ORBISON JR.',\n",
                            " 'WESLEY ORBISON',\n",
                            " 'T BONE BURNETT',\n",
                            " 'JOE MELSON',\n",
                            " 'FRED FOSTER',\n",
                            " 'JEFF LYNNE',\n",
                            " 'TERRY WIDLAKE',\n",
                            " 'BARBARA ORBISON',\n",
                            " 'MARIANNE FAITHFULL',\n",
                            " 'BOBBY GOLDSBORO',\n",
                            " 'JERRY KENNEDY',\n",
                            " 'HAROLD BRADLEY']"
                        ]
                    },
                    "metadata": {},
                    "output_type": "display_data"
                },
                {
                    "data": {
                        "text/plain": [
                            "4"
                        ]
                    },
                    "metadata": {},
                    "output_type": "display_data"
                },
                {
                    "name": "stdout",
                    "output_type": "stream",
                    "text": [
                        "Next row...\n",
                        "Index: 1661\n",
                        "The Long Way Home: Making the Martian\n",
                        "Lead Actors\n"
                    ]
                },
                {
                    "data": {
                        "text/plain": [
                            "['JESSICA CHASTAIN', 'MATT DAMON', 'JEFF DANIELS']"
                        ]
                    },
                    "metadata": {},
                    "output_type": "display_data"
                },
                {
                    "data": {
                        "text/plain": [
                            "13"
                        ]
                    },
                    "metadata": {},
                    "output_type": "display_data"
                },
                {
                    "name": "stdout",
                    "output_type": "stream",
                    "text": [
                        "Supporting Actors\n"
                    ]
                },
                {
                    "data": {
                        "text/plain": [
                            "['KATE MARA',\n",
                            " 'MICHAEL PEÑA',\n",
                            " 'AKSEL HENNIE',\n",
                            " 'RIDLEY SCOTT',\n",
                            " 'CHIWETEL EJIOFOR',\n",
                            " 'SEBASTIAN STAN']"
                        ]
                    },
                    "metadata": {},
                    "output_type": "display_data"
                },
                {
                    "data": {
                        "text/plain": [
                            "6"
                        ]
                    },
                    "metadata": {},
                    "output_type": "display_data"
                },
                {
                    "name": "stdout",
                    "output_type": "stream",
                    "text": [
                        "Movie Cast\n"
                    ]
                },
                {
                    "data": {
                        "text/plain": [
                            "['RIDLEY SCOTT',\n",
                            " 'MATT DAMON',\n",
                            " 'JESSICA CHASTAIN',\n",
                            " 'CHIWETEL EJIOFOR',\n",
                            " 'MICHAEL PEÑA',\n",
                            " 'SEBASTIAN STAN',\n",
                            " 'KATE MARA',\n",
                            " 'AKSEL HENNIE']"
                        ]
                    },
                    "metadata": {},
                    "output_type": "display_data"
                },
                {
                    "data": {
                        "text/plain": [
                            "15"
                        ]
                    },
                    "metadata": {},
                    "output_type": "display_data"
                },
                {
                    "name": "stdout",
                    "output_type": "stream",
                    "text": [
                        "Next row...\n",
                        "Index: 1702\n",
                        "Jay and Silent Bob Reboot\n",
                        "Lead Actors\n"
                    ]
                },
                {
                    "data": {
                        "text/plain": [
                            "['JOEY LAUREN ADAMS', 'BEN AFFLECK', 'FRED ARMISEN', 'DIEDRICH BADER']"
                        ]
                    },
                    "metadata": {},
                    "output_type": "display_data"
                },
                {
                    "data": {
                        "text/plain": [
                            "5"
                        ]
                    },
                    "metadata": {},
                    "output_type": "display_data"
                },
                {
                    "name": "stdout",
                    "output_type": "stream",
                    "text": [
                        "Supporting Actors\n"
                    ]
                },
                {
                    "data": {
                        "text/plain": [
                            "['CRAIG ROBINSON',\n",
                            " 'JASON MEWES',\n",
                            " 'VAL KILMER',\n",
                            " 'HARLEY QUINN SMITH',\n",
                            " 'MELISSA BENOIST',\n",
                            " \"BRIAN O'HALLORAN\",\n",
                            " 'TOMMY CHONG',\n",
                            " 'ROSARIO DAWSON',\n",
                            " 'APARNA BRIELLE',\n",
                            " 'JORDAN MONSANTO',\n",
                            " 'KEVIN SMITH',\n",
                            " 'SHANNON ELIZABETH',\n",
                            " 'JOE MANGANIELLO',\n",
                            " 'ALICE WEN',\n",
                            " 'JASON LEE']"
                        ]
                    },
                    "metadata": {},
                    "output_type": "display_data"
                },
                {
                    "data": {
                        "text/plain": [
                            "2"
                        ]
                    },
                    "metadata": {},
                    "output_type": "display_data"
                },
                {
                    "name": "stdout",
                    "output_type": "stream",
                    "text": [
                        "Movie Cast\n"
                    ]
                },
                {
                    "data": {
                        "text/plain": [
                            "['KEVIN SMITH',\n",
                            " 'JASON MEWES',\n",
                            " 'HARLEY QUINN SMITH',\n",
                            " \"BRIAN O'HALLORAN\",\n",
                            " 'JASON LEE',\n",
                            " 'SHANNON ELIZABETH',\n",
                            " 'ROSARIO DAWSON',\n",
                            " 'ALICE WEN',\n",
                            " 'APARNA BRIELLE',\n",
                            " 'MELISSA BENOIST',\n",
                            " 'VAL KILMER',\n",
                            " 'TOMMY CHONG',\n",
                            " 'CRAIG ROBINSON',\n",
                            " 'JOE MANGANIELLO',\n",
                            " 'JORDAN MONSANTO']"
                        ]
                    },
                    "metadata": {},
                    "output_type": "display_data"
                },
                {
                    "data": {
                        "text/plain": [
                            "2"
                        ]
                    },
                    "metadata": {},
                    "output_type": "display_data"
                },
                {
                    "name": "stdout",
                    "output_type": "stream",
                    "text": [
                        "Next row...\n"
                    ]
                }
            ],
            "source": [
                "# Locate the rows where Total_Awards_Lead_Actors + Total_Awards_Supporting_Actors does not equal Total_Awards_Movie_Cast.\n",
                "inconsistent_rows = movie_data_df[(movie_data_df[\"Total_Awards_Lead_Actors\"] + movie_data_df[\"Total_Awards_Supporting_Actors\"] != movie_data_df[\"Total_Awards_Movie_Cast\"])]\n",
                "indexes = inconsistent_rows.index\n",
                "\n",
                "# Iterate through the indexes to further inspect the cause of the inconsistencies.\n",
                "for index in indexes:\n",
                "    print(\"Index: \" + str(index)) \n",
                "    print(inconsistent_rows[\"Title\"][index]) \n",
                "    print(\"Lead Actors\")\n",
                "    display(inconsistent_rows[\"Lead_Actors\"][index])\n",
                "    display(inconsistent_rows[\"Total_Awards_Lead_Actors\"][index])\n",
                "    print(\"Supporting Actors\")\n",
                "    display(inconsistent_rows[\"Supporting_Actors\"][index])\n",
                "    display(inconsistent_rows[\"Total_Awards_Supporting_Actors\"][index])\n",
                "    print(\"Movie Cast\")\n",
                "    display(inconsistent_rows[\"Movie_Cast\"][index])\n",
                "    display(inconsistent_rows[\"Total_Awards_Movie_Cast\"][index])\n",
                "    print(\"Next row...\")\n",
                "\n",
                "# Make a note of what needs to be changed."
            ]
        },
        {
            "cell_type": "code",
            "execution_count": 12,
            "metadata": {},
            "outputs": [],
            "source": [
                "# Index 1: add 'PAUL NEWMAN' and 'JOANNE WOODWARD' to 'Movie_Cast'\n",
                "movie_data_df[\"Movie_Cast\"][1].extend([\"PAUL NEWMAN\", \"JOANNE WOODWARD\"])\n",
                "\n",
                "# Index 145: remove 'RAÚL JULIÁ' from 'Supporting_Cast' and add to 'Lead_Actors', add 'RAUL JULIA' to 'Movie_Cast'\n",
                "movie_data_df[\"Supporting_Actors\"][145].remove(\"RAÚL JULIÁ\")\n",
                "movie_data_df[\"Lead_Actors\"][145].append(\"RAÚL JULIÁ\")\n",
                "movie_data_df[\"Movie_Cast\"][145].append(\"RAUL JULIA\")\n",
                "\n",
                "# Index 281: remove 'ANDY GARCÍA' from 'Supporting_Cast' and add to 'Lead_Actors', add 'ANDY GARCIA' to 'Movie_Cast'\n",
                "movie_data_df[\"Supporting_Actors\"][281].remove(\"ANDY GARCÍA\")\n",
                "movie_data_df[\"Lead_Actors\"][281].append(\"ANDY GARCÍA\")\n",
                "movie_data_df[\"Movie_Cast\"][281].append(\"ANDY GARCIA\")\n",
                "\n",
                "# Index 896: remove 'ANDY GARCÍA' from 'Supporting_Cast' and add to 'Lead_Actors', add 'ANDY GARCIA' to 'Movie_Cast'\n",
                "movie_data_df[\"Supporting_Actors\"][896].remove(\"ANDY GARCÍA\")\n",
                "movie_data_df[\"Lead_Actors\"][896].append(\"ANDY GARCÍA\")\n",
                "movie_data_df[\"Movie_Cast\"][896].append(\"ANDY GARCIA\")\n",
                "\n",
                "# Index 942: remove 'MICHAEL WILLIAMS' from 'Lead_Actors'\n",
                "movie_data_df[\"Lead_Actors\"][942].remove(\"MICHAEL WILLIAMS\")\n",
                "\n",
                "# Index 966: add 'QUEEN LATIFAH' to 'Movie_Cast'\n",
                "movie_data_df[\"Movie_Cast\"][966].append(\"QUEEN LATIFAH\")\n",
                "\n",
                "# Index 1067: 'ANDY GARCÍA' from 'Supporting_Cast' and add to 'Lead_Actors', add 'ANDY GARCIA' to 'Movie_Cast'\n",
                "movie_data_df[\"Supporting_Actors\"][1067].remove(\"ANDY GARCÍA\")\n",
                "movie_data_df[\"Lead_Actors\"][1067].append(\"ANDY GARCÍA\")\n",
                "movie_data_df[\"Movie_Cast\"][1067].append(\"ANDY GARCIA\")\n",
                "\n",
                "# Index 1093: add 'JON AVNET', 'CAROLE BAYER SAGER' and 'ANDY GARCIA' to 'Movie_Cast', add 'ANDY GARCIA' to 'Supporting_Actors'\n",
                "movie_data_df[\"Movie_Cast\"][1093].extend([\"JON AVNET\", \"CAROLE BAYER SAGER\", \"ANDY GARCIA\"])\n",
                "movie_data_df[\"Supporting_Actors\"][1093].append(\"ANDY GARCIA\")\n",
                "\n",
                "# Index 1096: add 'MATT DAMON' to 'Movie_Cast'\n",
                "movie_data_df[\"Movie_Cast\"][1096].append(\"MATT DAMON\")\n",
                "\n",
                "# Index 1156: remove 'GAME' from 'Lead_Actors', add 'JAYCEON TERRELL TAYLOR' to 'Lead_Actors'\n",
                "movie_data_df[\"Lead_Actors\"][1156].remove(\"GAME\")\n",
                "movie_data_df[\"Lead_Actors\"][1156].append(\"JAYCEON TERRELL TAYLOR\")\n",
                "\n",
                "# Index 1160: add 'ANGELA DAVIS' and 'MAHERSHALA ALI' to 'Movie_Cast'\n",
                "movie_data_df[\"Movie_Cast\"][1160].extend([\"ANGELA DAVIS\", \"MAHERSHALA ALI\"])\n",
                "\n",
                "# Index 1418: add 'DUSTIN LANCE BLACK' and 'DAVID BOIES' to 'Movie_Cast'\n",
                "movie_data_df[\"Movie_Cast\"][1418].extend([\"DUSTIN LANCE BLACK\", \"DAVID BOIES\"])\n",
                "\n",
                "# Index 1442: add 'IDRIS ELBA' to 'Movie_Cast'\n",
                "movie_data_df[\"Movie_Cast\"][1442].append(\"IDRIS ELBA\")\n",
                "\n",
                "# Index 1570: add 'MARK RUFFALO' to 'Movie_Cast'\n",
                "movie_data_df[\"Movie_Cast\"][1570].append(\"MARK RUFFALO\")\n",
                "\n",
                "# Index 1577: add 'AARON PAUL', 'AASIF MANDVI', 'ADAM LAMBERT' to 'Movie_Cast'\n",
                "movie_data_df[\"Movie_Cast\"][1577].extend([\"AARON PAUL\", \"AASIF MANDVI\", \"ADAM LAMBERT\"])\n",
                "\n",
                "# Index 1634: add 'UZO ADUBA', 'LILY ALDRIDGE', 'ABIGAIL ANDERSON' to 'Movie_Cast'\n",
                "movie_data_df[\"Movie_Cast\"][1634].extend([\"UZO ADUBA\", \"LILY ALDRIDGE\", \"ABIGAIL ANDERSON\"])\n",
                "\n",
                "# Index 1646: add 'THE BEATLES' to 'Movie_Cast'\n",
                "movie_data_df[\"Movie_Cast\"][1646].append(\"THE BEATLES\")\n",
                "\n",
                "# Index 1661: add 'JEFF DANIELS' to 'Movie_Cast'\n",
                "movie_data_df[\"Movie_Cast\"][1661].append(\"JEFF DANIELS\")\n",
                "\n",
                "# Index 1702: add 'JOEY LAUREN ADAMS', 'BEN AFFLECK', 'FRED ARMISEN', 'DIEDRICH BADER' to 'Movie_Cast'\n",
                "movie_data_df[\"Movie_Cast\"][1702].extend([\"JOEY LAUREN ADAMS\", \"BEN AFFLECK\", \"FRED ARMISEN\", \"DIEDRICH BADER\"])"
            ]
        },
        {
            "cell_type": "code",
            "execution_count": 13,
            "metadata": {},
            "outputs": [],
            "source": [
                "# Update the total_awards columns.\n",
                "movie_data_df[\"Total_Awards_Lead_Actors\"] = movie_data_df.apply(lambda row: get_total_movie_awards(row[\"Lead_Actors\"], row[\"Released\"]), axis=1)\n",
                "movie_data_df[\"Total_Awards_Supporting_Actors\"] = movie_data_df.apply(lambda row: get_total_movie_awards(row[\"Supporting_Actors\"], row[\"Released\"]), axis=1)\n",
                "movie_data_df[\"Total_Awards_Movie_Cast\"] = movie_data_df.apply(lambda row: get_total_movie_awards(row[\"Movie_Cast\"], row[\"Released\"]), axis=1)\n",
                "movie_data_df[\"Total_Awards_Director\"] = movie_data_df.apply(lambda row: get_total_movie_awards(row[\"Director\"], row[\"Released\"]), axis=1)\n",
                "movie_data_df[\"Total_Awards_Writer\"] = movie_data_df.apply(lambda row: get_total_movie_awards(row[\"Writer\"], row[\"Released\"]), axis=1)\n",
                "movie_data_df[\"Total_Awards_Movie_Crew\"] = movie_data_df.apply(lambda row: get_total_movie_awards(row[\"Movie_Crew\"], row[\"Released\"]), axis=1)\n",
                "movie_data_df[\"Total_Awards_Soundtrack_Credits\"] = movie_data_df.apply(lambda row: get_total_music_awards(row[\"Soundtrack_Credits\"], row[\"Released\"]), axis=1)"
            ]
        },
        {
            "cell_type": "code",
            "execution_count": 14,
            "metadata": {},
            "outputs": [
                {
                    "data": {
                        "text/html": [
                            "<div>\n",
                            "<style scoped>\n",
                            "    .dataframe tbody tr th:only-of-type {\n",
                            "        vertical-align: middle;\n",
                            "    }\n",
                            "\n",
                            "    .dataframe tbody tr th {\n",
                            "        vertical-align: top;\n",
                            "    }\n",
                            "\n",
                            "    .dataframe thead th {\n",
                            "        text-align: right;\n",
                            "    }\n",
                            "</style>\n",
                            "<table border=\"1\" class=\"dataframe\">\n",
                            "  <thead>\n",
                            "    <tr style=\"text-align: right;\">\n",
                            "      <th></th>\n",
                            "      <th>imdbID</th>\n",
                            "      <th>Title</th>\n",
                            "      <th>Year</th>\n",
                            "      <th>Rated</th>\n",
                            "      <th>Released</th>\n",
                            "      <th>Runtime</th>\n",
                            "      <th>Genre</th>\n",
                            "      <th>Director</th>\n",
                            "      <th>Writer</th>\n",
                            "      <th>Lead_Actors</th>\n",
                            "      <th>...</th>\n",
                            "      <th>Soundtrack_Credits</th>\n",
                            "      <th>alternative_titles</th>\n",
                            "      <th>Supporting_Actors</th>\n",
                            "      <th>Total_Awards_Lead_Actors</th>\n",
                            "      <th>Total_Awards_Supporting_Actors</th>\n",
                            "      <th>Total_Awards_Movie_Cast</th>\n",
                            "      <th>Total_Awards_Director</th>\n",
                            "      <th>Total_Awards_Writer</th>\n",
                            "      <th>Total_Awards_Movie_Crew</th>\n",
                            "      <th>Total_Awards_Soundtrack_Credits</th>\n",
                            "    </tr>\n",
                            "  </thead>\n",
                            "  <tbody>\n",
                            "  </tbody>\n",
                            "</table>\n",
                            "<p>0 rows × 36 columns</p>\n",
                            "</div>"
                        ],
                        "text/plain": [
                            "Empty DataFrame\n",
                            "Columns: [imdbID, Title, Year, Rated, Released, Runtime, Genre, Director, Writer, Lead_Actors, Plot, Language, Country, Metascore, imdbRating, imdbVotes, rtRating, DVD, BoxOffice, Production, Keyword_List, Movie_Crew, Movie_Cast, Budget, Opening_Weekend_Gross, Worldwide_Gross, Soundtrack_Credits, alternative_titles, Supporting_Actors, Total_Awards_Lead_Actors, Total_Awards_Supporting_Actors, Total_Awards_Movie_Cast, Total_Awards_Director, Total_Awards_Writer, Total_Awards_Movie_Crew, Total_Awards_Soundtrack_Credits]\n",
                            "Index: []\n",
                            "\n",
                            "[0 rows x 36 columns]"
                        ]
                    },
                    "execution_count": 14,
                    "metadata": {},
                    "output_type": "execute_result"
                }
            ],
            "source": [
                "# Check inconsistencies again.\n",
                "movie_data_df[(movie_data_df[\"Total_Awards_Lead_Actors\"] + movie_data_df[\"Total_Awards_Supporting_Actors\"] != movie_data_df[\"Total_Awards_Movie_Cast\"])]"
            ]
        },
        {
            "cell_type": "code",
            "execution_count": 15,
            "metadata": {},
            "outputs": [],
            "source": [
                "# Calculate the black actor proportions for each film. \n",
                "movie_data_df[\"Black_Lead_Proportion\"] = movie_data_df.apply(lambda row: calculate_black_actor_proportion(row[\"Lead_Actors\"]), axis=1)\n",
                "movie_data_df[\"Black_Support_Proportion\"] = movie_data_df.apply(lambda row: calculate_black_actor_proportion(row[\"Supporting_Actors\"]), axis=1)\n",
                "movie_data_df[\"Black_Cast_Proportion\"] = movie_data_df.apply(lambda row: calculate_black_actor_proportion(row[\"Movie_Cast\"]), axis=1)"
            ]
        },
        {
            "cell_type": "code",
            "execution_count": 16,
            "metadata": {},
            "outputs": [],
            "source": [
                "# Convert new columns types to float. \n",
                "movie_data_df[\"Black_Lead_Proportion\"] = movie_data_df[\"Black_Lead_Proportion\"].astype(float)\n",
                "movie_data_df[\"Black_Support_Proportion\"] = movie_data_df[\"Black_Support_Proportion\"].astype(float)\n",
                "movie_data_df[\"Black_Cast_Proportion\"] = movie_data_df[\"Black_Cast_Proportion\"].astype(float)"
            ]
        },
        {
            "cell_type": "code",
            "execution_count": 22,
            "metadata": {},
            "outputs": [],
            "source": [
                "# Save dataframe to pickle. \n",
                "movie_data_df.to_pickle(\"./movie_data_df_2.pkl\")"
            ]
        }
    ],
    "metadata": {
        "interpreter": {
            "hash": "1c7a63ceb2bec5589597806103c1678b5a006857ce759a3703cd1648bb5b16ad"
        },
        "kernelspec": {
            "display_name": "Python 3.9.6 64-bit",
            "language": "python",
            "name": "python3"
        },
        "language_info": {
            "codemirror_mode": {
                "name": "ipython",
                "version": 3
            },
            "file_extension": ".py",
            "mimetype": "text/x-python",
            "name": "python",
            "nbconvert_exporter": "python",
            "pygments_lexer": "ipython3",
            "version": "3.9.6"
        },
        "orig_nbformat": 4
    },
    "nbformat": 4,
    "nbformat_minor": 2
}
